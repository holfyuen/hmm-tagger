{
 "cells": [
  {
   "cell_type": "markdown",
   "metadata": {
    "nbpresent": {
     "id": "46f0166f-a4e2-4373-ad54-40099b7a4601"
    }
   },
   "source": [
    "# Project: Part of Speech Tagging with Hidden Markov Models \n",
    "---\n",
    "### Introduction\n",
    "\n",
    "Part of speech tagging is the process of determining the syntactic category of a word from the words in its surrounding context. It is often used to help disambiguate natural language phrases because it can be done quickly with high accuracy. Tagging can be used for many NLP tasks like determining correct pronunciation during speech synthesis (for example, _dis_-count as a noun vs dis-_count_ as a verb), for information retrieval, and for word sense disambiguation.\n",
    "\n",
    "In this notebook, you'll use the [Pomegranate](http://pomegranate.readthedocs.io/) library to build a hidden Markov model for part of speech tagging using a \"universal\" tagset. Hidden Markov models have been able to achieve [>96% tag accuracy with larger tagsets on realistic text corpora](http://www.coli.uni-saarland.de/~thorsten/publications/Brants-ANLP00.pdf). Hidden Markov models have also been used for speech recognition and speech generation, machine translation, gene recognition for bioinformatics, and human gesture recognition for computer vision, and more. \n",
    "\n",
    "![](_post-hmm.png)\n",
    "\n",
    "The notebook already contains some code to get you started. You only need to add some new functionality in the areas indicated to complete the project; you will not need to modify the included code beyond what is requested. Sections that begin with **'IMPLEMENTATION'** in the header indicate that you must provide code in the block that follows. Instructions will be provided for each section, and the specifics of the implementation are marked in the code block with a 'TODO' statement. Please be sure to read the instructions carefully!"
   ]
  },
  {
   "cell_type": "markdown",
   "metadata": {
    "nbpresent": {
     "id": "3313197e-7f84-46c6-ad9f-b97a5e20675e"
    }
   },
   "source": [
    "<div class=\"alert alert-block alert-info\">\n",
    "**Note:** Once you have completed all of the code implementations, you need to finalize your work by exporting the iPython Notebook as an HTML document. Before exporting the notebook to html, all of the code cells need to have been run so that reviewers can see the final implementation and output. You must then **export the notebook** by running the last cell in the notebook, or by using the menu above and navigating to **File -> Download as -> HTML (.html)** Your submissions should include both the `html` and `ipynb` files.\n",
    "</div>"
   ]
  },
  {
   "cell_type": "markdown",
   "metadata": {
    "nbpresent": {
     "id": "29905d5e-7390-44f1-bc69-4b5b9719fa59"
    }
   },
   "source": [
    "<div class=\"alert alert-block alert-info\">\n",
    "**Note:** Code and Markdown cells can be executed using the `Shift + Enter` keyboard shortcut. Markdown cells can be edited by double-clicking the cell to enter edit mode.\n",
    "</div>"
   ]
  },
  {
   "cell_type": "markdown",
   "metadata": {
    "nbpresent": {
     "id": "9fe159f6-033d-403e-b585-2f5b8c5c4643"
    }
   },
   "source": [
    "### The Road Ahead\n",
    "You must complete Steps 1-3 below to pass the project. The section on Step 4 includes references & resources you can use to further explore HMM taggers.\n",
    "\n",
    "- [Step 1](#Step-1:-Read-and-preprocess-the-dataset): Review the provided interface to load and access the text corpus\n",
    "- [Step 2](#Step-2:-Build-a-Most-Frequent-Class-tagger): Build a Most Frequent Class tagger to use as a baseline\n",
    "- [Step 3](#Step-3:-Build-an-HMM-tagger): Build an HMM Part of Speech tagger and compare to the MFC baseline\n",
    "- [Step 4](#Step-4:-[Optional]-Improving-model-performance): (Optional) Improve the HMM tagger"
   ]
  },
  {
   "cell_type": "markdown",
   "metadata": {
    "nbpresent": {
     "id": "6ea660b6-ec4d-4a6c-9851-e290b7d4bf42"
    }
   },
   "source": [
    "<div class=\"alert alert-block alert-warning\">\n",
    "**Note:** Make sure you have selected a **Python 3** kernel in Workspaces or the hmm-tagger conda environment if you are running the Jupyter server on your own machine.\n",
    "</div>"
   ]
  },
  {
   "cell_type": "code",
   "execution_count": 1,
   "metadata": {
    "nbpresent": {
     "id": "01972f7b-2dd2-4977-b9df-7a05c6bdddb5"
    }
   },
   "outputs": [],
   "source": [
    "# Jupyter \"magic methods\" -- only need to be run once per kernel restart\n",
    "%load_ext autoreload\n",
    "%aimport helpers, tests\n",
    "%autoreload 1"
   ]
  },
  {
   "cell_type": "code",
   "execution_count": 2,
   "metadata": {
    "nbpresent": {
     "id": "1bfe0b5f-adf7-4f6a-a87b-c0c11eb0cf66"
    }
   },
   "outputs": [],
   "source": [
    "# import python modules -- this cell needs to be run again if you make changes to any of the files\n",
    "import matplotlib.pyplot as plt\n",
    "import numpy as np\n",
    "\n",
    "from IPython.core.display import HTML\n",
    "from itertools import chain\n",
    "from collections import Counter, defaultdict\n",
    "from helpers import show_model, Dataset\n",
    "from pomegranate import State, HiddenMarkovModel, DiscreteDistribution"
   ]
  },
  {
   "cell_type": "markdown",
   "metadata": {
    "nbpresent": {
     "id": "70d9af74-5c82-4b85-86d1-b14b37f33fc6"
    }
   },
   "source": [
    "## Step 1: Read and preprocess the dataset\n",
    "---\n",
    "We'll start by reading in a text corpus and splitting it into a training and testing dataset. The data set is a copy of the [Brown corpus](https://en.wikipedia.org/wiki/Brown_Corpus) (originally from the [NLTK](https://www.nltk.org/) library) that has already been pre-processed to only include the [universal tagset](https://arxiv.org/pdf/1104.2086.pdf). You should expect to get slightly higher accuracy using this simplified tagset than the same model would achieve on a larger tagset like the full [Penn treebank tagset](https://www.ling.upenn.edu/courses/Fall_2003/ling001/penn_treebank_pos.html), but the process you'll follow would be the same.\n",
    "\n",
    "The `Dataset` class provided in helpers.py will read and parse the corpus. You can generate your own datasets compatible with the reader by writing them to the following format. The dataset is stored in plaintext as a collection of words and corresponding tags. Each sentence starts with a unique identifier on the first line, followed by one tab-separated word/tag pair on each following line. Sentences are separated by a single blank line.\n",
    "\n",
    "Example from the Brown corpus. \n",
    "```\n",
    "b100-38532\n",
    "Perhaps\tADV\n",
    "it\tPRON\n",
    "was\tVERB\n",
    "right\tADJ\n",
    ";\t.\n",
    ";\t.\n",
    "\n",
    "b100-35577\n",
    "...\n",
    "```"
   ]
  },
  {
   "cell_type": "code",
   "execution_count": 3,
   "metadata": {
    "nbpresent": {
     "id": "ad82d00d-40ac-442d-a29a-009d1e081d9b"
    }
   },
   "outputs": [
    {
     "name": "stdout",
     "output_type": "stream",
     "text": [
      "There are 57340 sentences in the corpus.\n",
      "There are 45872 sentences in the training set.\n",
      "There are 11468 sentences in the testing set.\n"
     ]
    }
   ],
   "source": [
    "data = Dataset(\"tags-universal.txt\", \"brown-universal.txt\", train_test_split=0.8)\n",
    "\n",
    "print(\"There are {} sentences in the corpus.\".format(len(data)))\n",
    "print(\"There are {} sentences in the training set.\".format(len(data.training_set)))\n",
    "print(\"There are {} sentences in the testing set.\".format(len(data.testing_set)))\n",
    "\n",
    "assert len(data) == len(data.training_set) + len(data.testing_set), \\\n",
    "       \"The number of sentences in the training set + testing set should sum to the number of sentences in the corpus\""
   ]
  },
  {
   "cell_type": "markdown",
   "metadata": {
    "nbpresent": {
     "id": "d23837bf-e7a7-4c97-a116-21caf4ad619c"
    }
   },
   "source": [
    "### The Dataset Interface\n",
    "\n",
    "You can access (mostly) immutable references to the dataset through a simple interface provided through the `Dataset` class, which represents an iterable collection of sentences along with easy access to partitions of the data for training & testing. Review the reference below, then run and review the next few cells to make sure you understand the interface before moving on to the next step.\n",
    "\n",
    "```\n",
    "Dataset-only Attributes:\n",
    "    training_set - reference to a Subset object containing the samples for training\n",
    "    testing_set - reference to a Subset object containing the samples for testing\n",
    "\n",
    "Dataset & Subset Attributes:\n",
    "    sentences - a dictionary with an entry {sentence_key: Sentence()} for each sentence in the corpus\n",
    "    keys - an immutable ordered (not sorted) collection of the sentence_keys for the corpus\n",
    "    vocab - an immutable collection of the unique words in the corpus\n",
    "    tagset - an immutable collection of the unique tags in the corpus\n",
    "    X - returns an array of words grouped by sentences ((w11, w12, w13, ...), (w21, w22, w23, ...), ...)\n",
    "    Y - returns an array of tags grouped by sentences ((t11, t12, t13, ...), (t21, t22, t23, ...), ...)\n",
    "    N - returns the number of distinct samples (individual words or tags) in the dataset\n",
    "\n",
    "Methods:\n",
    "    stream() - returns an flat iterable over all (word, tag) pairs across all sentences in the corpus\n",
    "    __iter__() - returns an iterable over the data as (sentence_key, Sentence()) pairs\n",
    "    __len__() - returns the nubmer of sentences in the dataset\n",
    "```\n",
    "\n",
    "For example, consider a Subset, `subset`, of the sentences `{\"s0\": Sentence((\"See\", \"Spot\", \"run\"), (\"VERB\", \"NOUN\", \"VERB\")), \"s1\": Sentence((\"Spot\", \"ran\"), (\"NOUN\", \"VERB\"))}`. The subset will have these attributes:\n",
    "\n",
    "```\n",
    "subset.keys == {\"s1\", \"s0\"}  # unordered\n",
    "subset.vocab == {\"See\", \"run\", \"ran\", \"Spot\"}  # unordered\n",
    "subset.tagset == {\"VERB\", \"NOUN\"}  # unordered\n",
    "subset.X == ((\"Spot\", \"ran\"), (\"See\", \"Spot\", \"run\"))  # order matches .keys\n",
    "subset.Y == ((\"NOUN\", \"VERB\"), (\"VERB\", \"NOUN\", \"VERB\"))  # order matches .keys\n",
    "subset.N == 7  # there are a total of seven observations over all sentences\n",
    "len(subset) == 2  # because there are two sentences\n",
    "```\n",
    "\n",
    "<div class=\"alert alert-block alert-info\">\n",
    "**Note:** The `Dataset` class is _convenient_, but it is **not** efficient. It is not suitable for huge datasets because it stores multiple redundant copies of the same data.\n",
    "</div>"
   ]
  },
  {
   "cell_type": "markdown",
   "metadata": {
    "nbpresent": {
     "id": "e06f07b2-5676-4b95-8313-57d079a8a85b"
    }
   },
   "source": [
    "#### Sentences\n",
    "\n",
    "`Dataset.sentences` is a dictionary of all sentences in the training corpus, each keyed to a unique sentence identifier. Each `Sentence` is itself an object with two attributes: a tuple of the words in the sentence named `words` and a tuple of the tag corresponding to each word named `tags`."
   ]
  },
  {
   "cell_type": "code",
   "execution_count": 4,
   "metadata": {
    "nbpresent": {
     "id": "fff755f2-d007-4075-97fc-4f7467512f7a"
    }
   },
   "outputs": [
    {
     "name": "stdout",
     "output_type": "stream",
     "text": [
      "Sentence: b100-38532\n",
      "words:\n",
      "\t('Perhaps', 'it', 'was', 'right', ';', ';')\n",
      "tags:\n",
      "\t('ADV', 'PRON', 'VERB', 'ADJ', '.', '.')\n"
     ]
    }
   ],
   "source": [
    "key = 'b100-38532'\n",
    "print(\"Sentence: {}\".format(key))\n",
    "print(\"words:\\n\\t{!s}\".format(data.sentences[key].words))\n",
    "print(\"tags:\\n\\t{!s}\".format(data.sentences[key].tags))"
   ]
  },
  {
   "cell_type": "markdown",
   "metadata": {
    "nbpresent": {
     "id": "317a1f76-ec29-43c0-b15a-06d0bbd3cd51"
    }
   },
   "source": [
    "<div class=\"alert alert-block alert-info\">\n",
    "**Note:** The underlying iterable sequence is **unordered** over the sentences in the corpus; it is not guaranteed to return the sentences in a consistent order between calls. Use `Dataset.stream()`, `Dataset.keys`, `Dataset.X`, or `Dataset.Y` attributes if you need ordered access to the data.\n",
    "</div>\n",
    "\n",
    "#### Counting Unique Elements\n",
    "\n",
    "You can access the list of unique words (the dataset vocabulary) via `Dataset.vocab` and the unique list of tags via `Dataset.tagset`."
   ]
  },
  {
   "cell_type": "code",
   "execution_count": 5,
   "metadata": {
    "nbpresent": {
     "id": "7d8017c4-6a6e-4218-bf52-025c758e5332"
    }
   },
   "outputs": [
    {
     "name": "stdout",
     "output_type": "stream",
     "text": [
      "There are a total of 1161192 samples of 56057 unique words in the corpus.\n",
      "There are 928458 samples of 50536 unique words in the training set.\n",
      "There are 232734 samples of 25112 unique words in the testing set.\n",
      "There are 5521 words in the test set that are missing in the training set.\n"
     ]
    }
   ],
   "source": [
    "print(\"There are a total of {} samples of {} unique words in the corpus.\"\n",
    "      .format(data.N, len(data.vocab)))\n",
    "print(\"There are {} samples of {} unique words in the training set.\"\n",
    "      .format(data.training_set.N, len(data.training_set.vocab)))\n",
    "print(\"There are {} samples of {} unique words in the testing set.\"\n",
    "      .format(data.testing_set.N, len(data.testing_set.vocab)))\n",
    "print(\"There are {} words in the test set that are missing in the training set.\"\n",
    "      .format(len(data.testing_set.vocab - data.training_set.vocab)))\n",
    "\n",
    "assert data.N == data.training_set.N + data.testing_set.N, \\\n",
    "       \"The number of training + test samples should sum to the total number of samples\""
   ]
  },
  {
   "cell_type": "markdown",
   "metadata": {
    "nbpresent": {
     "id": "934889e8-52d3-4452-abca-9449e97edb28"
    }
   },
   "source": [
    "#### Accessing word and tag Sequences\n",
    "The `Dataset.X` and `Dataset.Y` attributes provide access to ordered collections of matching word and tag sequences for each sentence in the dataset."
   ]
  },
  {
   "cell_type": "code",
   "execution_count": 6,
   "metadata": {
    "nbpresent": {
     "id": "0654bc0a-0f4c-4bba-b0f7-382bbcdd798d"
    }
   },
   "outputs": [
    {
     "name": "stdout",
     "output_type": "stream",
     "text": [
      "Sentence 1: ('Mr.', 'Podger', 'had', 'thanked', 'him', 'gravely', ',', 'and', 'now', 'he', 'made', 'use', 'of', 'the', 'advice', '.')\n",
      "\n",
      "Labels 1: ('NOUN', 'NOUN', 'VERB', 'VERB', 'PRON', 'ADV', '.', 'CONJ', 'ADV', 'PRON', 'VERB', 'NOUN', 'ADP', 'DET', 'NOUN', '.')\n",
      "\n",
      "Sentence 2: ('But', 'there', 'seemed', 'to', 'be', 'some', 'difference', 'of', 'opinion', 'as', 'to', 'how', 'far', 'the', 'board', 'should', 'go', ',', 'and', 'whose', 'advice', 'it', 'should', 'follow', '.')\n",
      "\n",
      "Labels 2: ('CONJ', 'PRT', 'VERB', 'PRT', 'VERB', 'DET', 'NOUN', 'ADP', 'NOUN', 'ADP', 'ADP', 'ADV', 'ADV', 'DET', 'NOUN', 'VERB', 'VERB', '.', 'CONJ', 'DET', 'NOUN', 'PRON', 'VERB', 'VERB', '.')\n",
      "\n"
     ]
    }
   ],
   "source": [
    "# accessing words with Dataset.X and tags with Dataset.Y \n",
    "for i in range(2):    \n",
    "    print(\"Sentence {}:\".format(i + 1), data.X[i])\n",
    "    print()\n",
    "    print(\"Labels {}:\".format(i + 1), data.Y[i])\n",
    "    print()"
   ]
  },
  {
   "cell_type": "markdown",
   "metadata": {
    "nbpresent": {
     "id": "118f3ce8-9630-4cff-af3c-8c03de90fe5a"
    }
   },
   "source": [
    "#### Accessing (word, tag) Samples\n",
    "The `Dataset.stream()` method returns an iterator that chains together every pair of (word, tag) entries across all sentences in the entire corpus."
   ]
  },
  {
   "cell_type": "code",
   "execution_count": 7,
   "metadata": {
    "nbpresent": {
     "id": "17d4f9d1-f4ae-44d0-946f-f109210a2dcf"
    }
   },
   "outputs": [
    {
     "name": "stdout",
     "output_type": "stream",
     "text": [
      "\n",
      "Stream (word, tag) pairs:\n",
      "\n",
      "\t ('Mr.', 'NOUN')\n",
      "\t ('Podger', 'NOUN')\n",
      "\t ('had', 'VERB')\n",
      "\t ('thanked', 'VERB')\n",
      "\t ('him', 'PRON')\n",
      "\t ('gravely', 'ADV')\n",
      "\t (',', '.')\n"
     ]
    }
   ],
   "source": [
    "# use Dataset.stream() (word, tag) samples for the entire corpus\n",
    "print(\"\\nStream (word, tag) pairs:\\n\")\n",
    "for i, pair in enumerate(data.stream()):\n",
    "    print(\"\\t\", pair)\n",
    "    if i > 5: break"
   ]
  },
  {
   "cell_type": "markdown",
   "metadata": {
    "nbpresent": {
     "id": "7dc39600-ce60-4f4b-94a7-a5da883f9088"
    }
   },
   "source": [
    "\n",
    "For both our baseline tagger and the HMM model we'll build, we need to estimate the frequency of tags & words from the frequency counts of observations in the training corpus. In the next several cells you will complete functions to compute the counts of several sets of counts. "
   ]
  },
  {
   "cell_type": "markdown",
   "metadata": {
    "nbpresent": {
     "id": "ad70f097-da53-42da-8875-f8bae7a3f149"
    }
   },
   "source": [
    "## Step 2: Build a Most Frequent Class tagger\n",
    "---\n",
    "\n",
    "Perhaps the simplest tagger (and a good baseline for tagger performance) is to simply choose the tag most frequently assigned to each word. This \"most frequent class\" tagger inspects each observed word in the sequence and assigns it the label that was most often assigned to that word in the corpus."
   ]
  },
  {
   "cell_type": "markdown",
   "metadata": {
    "nbpresent": {
     "id": "71383b05-430f-4068-828a-4497fd991322"
    }
   },
   "source": [
    "### IMPLEMENTATION: Pair Counts\n",
    "\n",
    "Complete the function below that computes the joint frequency counts for two input sequences."
   ]
  },
  {
   "cell_type": "code",
   "execution_count": 8,
   "metadata": {
    "nbpresent": {
     "id": "ec92a926-961d-41b1-9765-8e2dcb5fb56a"
    }
   },
   "outputs": [
    {
     "data": {
      "text/html": [
       "<div class=\"alert alert-block alert-success\">Your emission counts look good!</div>"
      ],
      "text/plain": [
       "<IPython.core.display.HTML object>"
      ]
     },
     "execution_count": 8,
     "metadata": {},
     "output_type": "execute_result"
    }
   ],
   "source": [
    "seq_tag = []\n",
    "seq_word = []\n",
    "for i, pair in enumerate(data.stream()):\n",
    "    seq_tag.append(pair[1])\n",
    "    seq_word.append(pair[0])\n",
    "\n",
    "def pair_counts(sequences_A, sequences_B):\n",
    "    \"\"\"Return a dictionary keyed to each unique value in the first sequence list\n",
    "    that counts the number of occurrences of the corresponding value from the\n",
    "    second sequences list.\n",
    "\n",
    "    For example, if sequences_A is tags and sequences_B is the corresponding\n",
    "    words, then if 1244 sequences contain the word \"time\" tagged as a NOUN, then\n",
    "    you should return a dictionary such that pair_counts[NOUN][time] == 1244\n",
    "    \"\"\"\n",
    "    # TODO: Finish this function!\n",
    "    freq_dict = dict()\n",
    "    for i in range(len(sequences_A)):\n",
    "        tag = sequences_A[i]\n",
    "        word = sequences_B[i]\n",
    "        if not tag in freq_dict.keys():\n",
    "            sub_dict = dict()\n",
    "            freq_dict[tag] = sub_dict\n",
    "            sub_dict[word]=sub_dict.get(word,0)+1\n",
    "        else:\n",
    "            freq_dict[tag][word]=freq_dict[tag].get(word,0)+1\n",
    "    return freq_dict\n",
    "    # raise NotImplementedError\n",
    "\n",
    "\n",
    "# Calculate C(t_i, w_i)\n",
    "emission_counts = pair_counts(seq_tag, seq_word)\n",
    "\n",
    "assert len(emission_counts) == 12, \\\n",
    "       \"Uh oh. There should be 12 tags in your dictionary.\"\n",
    "assert max(emission_counts[\"NOUN\"], key=emission_counts[\"NOUN\"].get) == 'time', \\\n",
    "       \"Hmmm...'time' is expected to be the most common NOUN.\"\n",
    "HTML('<div class=\"alert alert-block alert-success\">Your emission counts look good!</div>')"
   ]
  },
  {
   "cell_type": "code",
   "execution_count": 10,
   "metadata": {},
   "outputs": [],
   "source": [
    "# first2pairs = {k: word_counts[k] for k in list(word_counts)[:2]}"
   ]
  },
  {
   "cell_type": "markdown",
   "metadata": {
    "nbpresent": {
     "id": "ec5bd9d0-44d7-4640-b27a-1c70ca460a10"
    }
   },
   "source": [
    "### IMPLEMENTATION: Most Frequent Class Tagger\n",
    "\n",
    "Use the `pair_counts()` function and the training dataset to find the most frequent class label for each word in the training data, and populate the `mfc_table` below. The table keys should be words, and the values should be the appropriate tag string.\n",
    "\n",
    "The `MFCTagger` class is provided to mock the interface of Pomegranite HMM models so that they can be used interchangeably."
   ]
  },
  {
   "cell_type": "code",
   "execution_count": 11,
   "metadata": {
    "nbpresent": {
     "id": "86a255fa-60f2-4f2c-989e-6a647fa8cbe5"
    },
    "scrolled": true
   },
   "outputs": [
    {
     "data": {
      "text/html": [
       "<div class=\"alert alert-block alert-success\">Your MFC tagger has all the correct words!</div>"
      ],
      "text/plain": [
       "<IPython.core.display.HTML object>"
      ]
     },
     "execution_count": 11,
     "metadata": {},
     "output_type": "execute_result"
    }
   ],
   "source": [
    "# Create a lookup table mfc_table where mfc_table[word] contains the tag label most frequently assigned to that word\n",
    "from collections import namedtuple\n",
    "\n",
    "FakeState = namedtuple(\"FakeState\", \"name\")\n",
    "\n",
    "class MFCTagger:\n",
    "    # NOTE: You should not need to modify this class or any of its methods\n",
    "    missing = FakeState(name=\"<MISSING>\")\n",
    "    \n",
    "    def __init__(self, table):\n",
    "        self.table = defaultdict(lambda: MFCTagger.missing)\n",
    "        self.table.update({word: FakeState(name=tag) for word, tag in table.items()})\n",
    "        \n",
    "    def viterbi(self, seq):\n",
    "        \"\"\"This method simplifies predictions by matching the Pomegranate viterbi() interface\"\"\"\n",
    "        return 0., list(enumerate([\"<start>\"] + [self.table[w] for w in seq] + [\"<end>\"]))\n",
    "\n",
    "\n",
    "# TODO: calculate the frequency of each tag being assigned to each word (hint: similar, but not\n",
    "# the same as the emission probabilities) and use it to fill the mfc_table\n",
    "seq_tag = []\n",
    "seq_word = []\n",
    "for i, pair in enumerate(data.training_set.stream()):\n",
    "    seq_tag.append(pair[1])\n",
    "    seq_word.append(pair[0])\n",
    "\n",
    "word_counts = pair_counts(seq_word, seq_tag)\n",
    "\n",
    "mfc_table = {k: max(word_counts[k], key=word_counts[k].get) for k in word_counts.keys()}\n",
    "\n",
    "# DO NOT MODIFY BELOW THIS LINE\n",
    "mfc_model = MFCTagger(mfc_table) # Create a Most Frequent Class tagger instance\n",
    "\n",
    "assert len(mfc_table) == len(data.training_set.vocab), \"\"\n",
    "assert all(k in data.training_set.vocab for k in mfc_table.keys()), \"\"\n",
    "assert sum(int(k not in mfc_table) for k in data.testing_set.vocab) == 5521, \"\"\n",
    "HTML('<div class=\"alert alert-block alert-success\">Your MFC tagger has all the correct words!</div>')"
   ]
  },
  {
   "cell_type": "markdown",
   "metadata": {
    "nbpresent": {
     "id": "b3cf8443-804a-4ccd-8812-3e3e6c2763fc"
    }
   },
   "source": [
    "### Making Predictions with a Model\n",
    "The helper functions provided below interface with Pomegranate network models & the mocked MFCTagger to take advantage of the [missing value](http://pomegranate.readthedocs.io/en/latest/nan.html) functionality in Pomegranate through a simple sequence decoding function. Run these functions, then run the next cell to see some of the predictions made by the MFC tagger."
   ]
  },
  {
   "cell_type": "code",
   "execution_count": 12,
   "metadata": {
    "nbpresent": {
     "id": "f812fc76-81a5-489f-9471-b1c4547d3f2e"
    }
   },
   "outputs": [],
   "source": [
    "def replace_unknown(sequence):\n",
    "    \"\"\"Return a copy of the input sequence where each unknown word is replaced\n",
    "    by the literal string value 'nan'. Pomegranate will ignore these values\n",
    "    during computation.\n",
    "    \"\"\"\n",
    "    return [w if w in data.training_set.vocab else 'nan' for w in sequence]\n",
    "\n",
    "def simplify_decoding(X, model):\n",
    "    \"\"\"X should be a 1-D sequence of observations for the model to predict\"\"\"\n",
    "    _, state_path = model.viterbi(replace_unknown(X))\n",
    "    return [state[1].name for state in state_path[1:-1]]  # do not show the start/end state predictions"
   ]
  },
  {
   "cell_type": "markdown",
   "metadata": {
    "nbpresent": {
     "id": "4998bde8-4926-4721-bc65-80b3e34cea5c"
    }
   },
   "source": [
    "### Example Decoding Sequences with MFC Tagger"
   ]
  },
  {
   "cell_type": "code",
   "execution_count": 13,
   "metadata": {
    "nbpresent": {
     "id": "0cdab4b1-d9ab-49a2-abeb-d2f711fb7d12"
    }
   },
   "outputs": [
    {
     "name": "stdout",
     "output_type": "stream",
     "text": [
      "Sentence Key: b100-28144\n",
      "\n",
      "Predicted labels:\n",
      "-----------------\n",
      "['CONJ', 'NOUN', 'NUM', '.', 'NOUN', 'NUM', '.', 'NOUN', 'NUM', '.', 'CONJ', 'NOUN', 'NUM', '.', '.', 'NOUN', '.', '.']\n",
      "\n",
      "Actual labels:\n",
      "--------------\n",
      "('CONJ', 'NOUN', 'NUM', '.', 'NOUN', 'NUM', '.', 'NOUN', 'NUM', '.', 'CONJ', 'NOUN', 'NUM', '.', '.', 'NOUN', '.', '.')\n",
      "\n",
      "\n",
      "Sentence Key: b100-23146\n",
      "\n",
      "Predicted labels:\n",
      "-----------------\n",
      "['PRON', 'VERB', 'DET', 'NOUN', 'ADP', 'ADJ', 'ADJ', 'NOUN', 'VERB', 'VERB', '.', 'ADP', 'VERB', 'DET', 'NOUN', 'ADP', 'NOUN', 'ADP', 'DET', 'NOUN', '.']\n",
      "\n",
      "Actual labels:\n",
      "--------------\n",
      "('PRON', 'VERB', 'DET', 'NOUN', 'ADP', 'ADJ', 'ADJ', 'NOUN', 'VERB', 'VERB', '.', 'ADP', 'VERB', 'DET', 'NOUN', 'ADP', 'NOUN', 'ADP', 'DET', 'NOUN', '.')\n",
      "\n",
      "\n",
      "Sentence Key: b100-35462\n",
      "\n",
      "Predicted labels:\n",
      "-----------------\n",
      "['DET', 'ADJ', 'NOUN', 'VERB', 'VERB', 'VERB', 'ADP', 'DET', 'ADJ', 'ADJ', 'NOUN', 'ADP', 'DET', 'ADJ', 'NOUN', '.', 'ADP', 'ADJ', 'NOUN', '.', 'CONJ', 'ADP', 'DET', '<MISSING>', 'ADP', 'ADJ', 'ADJ', '.', 'ADJ', '.', 'CONJ', 'ADJ', 'NOUN', 'ADP', 'ADV', 'NOUN', '.']\n",
      "\n",
      "Actual labels:\n",
      "--------------\n",
      "('DET', 'ADJ', 'NOUN', 'VERB', 'VERB', 'VERB', 'ADP', 'DET', 'ADJ', 'ADJ', 'NOUN', 'ADP', 'DET', 'ADJ', 'NOUN', '.', 'ADP', 'ADJ', 'NOUN', '.', 'CONJ', 'ADP', 'DET', 'NOUN', 'ADP', 'ADJ', 'ADJ', '.', 'ADJ', '.', 'CONJ', 'ADJ', 'NOUN', 'ADP', 'ADJ', 'NOUN', '.')\n",
      "\n",
      "\n"
     ]
    }
   ],
   "source": [
    "for key in data.testing_set.keys[:3]:\n",
    "    print(\"Sentence Key: {}\\n\".format(key))\n",
    "    print(\"Predicted labels:\\n-----------------\")\n",
    "    print(simplify_decoding(data.sentences[key].words, mfc_model))\n",
    "    print()\n",
    "    print(\"Actual labels:\\n--------------\")\n",
    "    print(data.sentences[key].tags)\n",
    "    print(\"\\n\")"
   ]
  },
  {
   "cell_type": "markdown",
   "metadata": {
    "nbpresent": {
     "id": "2d4059fb-d698-4807-acd3-97d7ea35811b"
    }
   },
   "source": [
    "### Evaluating Model Accuracy\n",
    "\n",
    "The function below will evaluate the accuracy of the MFC tagger on the collection of all sentences from a text corpus. "
   ]
  },
  {
   "cell_type": "code",
   "execution_count": 14,
   "metadata": {
    "nbpresent": {
     "id": "9a6b10aa-fb34-434a-8a41-72966e7dd151"
    }
   },
   "outputs": [],
   "source": [
    "def accuracy(X, Y, model):\n",
    "    \"\"\"Calculate the prediction accuracy by using the model to decode each sequence\n",
    "    in the input X and comparing the prediction with the true labels in Y.\n",
    "    \n",
    "    The X should be an array whose first dimension is the number of sentences to test,\n",
    "    and each element of the array should be an iterable of the words in the sequence.\n",
    "    The arrays X and Y should have the exact same shape.\n",
    "    \n",
    "    X = [(\"See\", \"Spot\", \"run\"), (\"Run\", \"Spot\", \"run\", \"fast\"), ...]\n",
    "    Y = [(), (), ...]\n",
    "    \"\"\"\n",
    "    correct = total_predictions = 0\n",
    "    for observations, actual_tags in zip(X, Y):\n",
    "        \n",
    "        # The model.viterbi call in simplify_decoding will return None if the HMM\n",
    "        # raises an error (for example, if a test sentence contains a word that\n",
    "        # is out of vocabulary for the training set). Any exception counts the\n",
    "        # full sentence as an error (which makes this a conservative estimate).\n",
    "        try:\n",
    "            most_likely_tags = simplify_decoding(observations, model)\n",
    "            correct += sum(p == t for p, t in zip(most_likely_tags, actual_tags))\n",
    "        except:\n",
    "            pass\n",
    "        total_predictions += len(observations)\n",
    "    return correct / total_predictions"
   ]
  },
  {
   "cell_type": "markdown",
   "metadata": {
    "nbpresent": {
     "id": "2686c7bf-8248-4274-bf05-85e107d108af"
    }
   },
   "source": [
    "#### Evaluate the accuracy of the MFC tagger\n",
    "Run the next cell to evaluate the accuracy of the tagger on the training and test corpus."
   ]
  },
  {
   "cell_type": "code",
   "execution_count": 15,
   "metadata": {
    "nbpresent": {
     "id": "4b111cca-a3d7-48b3-a992-f3a8b2c01cad"
    }
   },
   "outputs": [
    {
     "name": "stdout",
     "output_type": "stream",
     "text": [
      "training accuracy mfc_model: 95.72%\n",
      "testing accuracy mfc_model: 93.00%\n"
     ]
    },
    {
     "data": {
      "text/html": [
       "<div class=\"alert alert-block alert-success\">Your MFC tagger accuracy looks correct!</div>"
      ],
      "text/plain": [
       "<IPython.core.display.HTML object>"
      ]
     },
     "execution_count": 15,
     "metadata": {},
     "output_type": "execute_result"
    }
   ],
   "source": [
    "mfc_training_acc = accuracy(data.training_set.X, data.training_set.Y, mfc_model)\n",
    "print(\"training accuracy mfc_model: {:.2f}%\".format(100 * mfc_training_acc))\n",
    "\n",
    "mfc_testing_acc = accuracy(data.testing_set.X, data.testing_set.Y, mfc_model)\n",
    "print(\"testing accuracy mfc_model: {:.2f}%\".format(100 * mfc_testing_acc))\n",
    "\n",
    "assert mfc_training_acc >= 0.955, \"Uh oh. Your MFC accuracy on the training set doesn't look right.\"\n",
    "assert mfc_testing_acc >= 0.925, \"Uh oh. Your MFC accuracy on the testing set doesn't look right.\"\n",
    "HTML('<div class=\"alert alert-block alert-success\">Your MFC tagger accuracy looks correct!</div>')"
   ]
  },
  {
   "cell_type": "markdown",
   "metadata": {
    "nbpresent": {
     "id": "65b32699-32b8-4f6e-bb3c-046bea369b25"
    }
   },
   "source": [
    "## Step 3: Build an HMM tagger\n",
    "---\n",
    "The HMM tagger has one hidden state for each possible tag, and parameterized by two distributions: the emission probabilties giving the conditional probability of observing a given **word** from each hidden state, and the transition probabilities giving the conditional probability of moving between **tags** during the sequence.\n",
    "\n",
    "We will also estimate the starting probability distribution (the probability of each **tag** being the first tag in a sequence), and the terminal probability distribution (the probability of each **tag** being the last tag in a sequence).\n",
    "\n",
    "The maximum likelihood estimate of these distributions can be calculated from the frequency counts as described in the following sections where you'll implement functions to count the frequencies, and finally build the model. The HMM model will make predictions according to the formula:\n",
    "\n",
    "$$t_i^n = \\underset{t_i^n}{\\mathrm{argmin}} \\prod_{i=1}^n P(w_i|t_i) P(t_i|t_{i-1})$$\n",
    "\n",
    "Refer to Speech & Language Processing [Chapter 10](https://web.stanford.edu/~jurafsky/slp3/10.pdf) for more information."
   ]
  },
  {
   "cell_type": "markdown",
   "metadata": {
    "nbpresent": {
     "id": "f2104c2e-b22b-453b-b3b9-a41d6f38afa1"
    }
   },
   "source": [
    "### IMPLEMENTATION: Unigram Counts\n",
    "\n",
    "Complete the function below to estimate the co-occurrence frequency of each symbol over all of the input sequences. The unigram probabilities in our HMM model are estimated from the formula below, where N is the total number of samples in the input. (You only need to compute the counts for now.)\n",
    "\n",
    "$$P(tag_1) = \\frac{C(tag_1)}{N}$$"
   ]
  },
  {
   "cell_type": "code",
   "execution_count": 16,
   "metadata": {
    "nbpresent": {
     "id": "e10b5911-8e82-4644-87ff-d2d7ae67ca53"
    }
   },
   "outputs": [
    {
     "data": {
      "text/html": [
       "<div class=\"alert alert-block alert-success\">Your tag unigrams look good!</div>"
      ],
      "text/plain": [
       "<IPython.core.display.HTML object>"
      ]
     },
     "execution_count": 16,
     "metadata": {},
     "output_type": "execute_result"
    }
   ],
   "source": [
    "def unigram_counts(sequences):\n",
    "    \"\"\"Return a dictionary keyed to each unique value in the input sequence list that\n",
    "    counts the number of occurrences of the value in the sequences list. The sequences\n",
    "    collection should be a 2-dimensional array.\n",
    "    \n",
    "    For example, if the tag NOUN appears 275558 times over all the input sequences,\n",
    "    then you should return a dictionary such that your_unigram_counts[NOUN] == 275558.\n",
    "    \"\"\"\n",
    "    # TODO: Finish this function!\n",
    "    ug_dict = dict()\n",
    "    for list_seq in sequences:\n",
    "        for item in list_seq:\n",
    "            ug_dict[item]=ug_dict.get(item,0)+1\n",
    "    return ug_dict\n",
    "    raise NotImplementedError\n",
    "\n",
    "# TODO: call unigram_counts with a list of tag sequences from the training set\n",
    "tag_unigrams = unigram_counts([list(item) for item in data.training_set.Y])\n",
    "\n",
    "assert set(tag_unigrams.keys()) == data.training_set.tagset, \\\n",
    "       \"Uh oh. It looks like your tag counts doesn't include all the tags!\"\n",
    "assert min(tag_unigrams, key=tag_unigrams.get) == 'X', \\\n",
    "       \"Hmmm...'X' is expected to be the least common class\"\n",
    "assert max(tag_unigrams, key=tag_unigrams.get) == 'NOUN', \\\n",
    "       \"Hmmm...'NOUN' is expected to be the most common class\"\n",
    "HTML('<div class=\"alert alert-block alert-success\">Your tag unigrams look good!</div>')"
   ]
  },
  {
   "cell_type": "markdown",
   "metadata": {
    "nbpresent": {
     "id": "6379f115-3542-40c0-b02a-bb85ae4d7917"
    }
   },
   "source": [
    "### IMPLEMENTATION: Bigram Counts\n",
    "\n",
    "Complete the function below to estimate the co-occurrence frequency of each pair of symbols in each of the input sequences. These counts are used in the HMM model to estimate the bigram probability of two tags from the frequency counts according to the formula: $$P(tag_2|tag_1) = \\frac{C(tag_2|tag_1)}{C(tag_2)}$$\n"
   ]
  },
  {
   "cell_type": "code",
   "execution_count": 17,
   "metadata": {
    "nbpresent": {
     "id": "dd45407d-843a-47d0-a38c-75fa0b230830"
    }
   },
   "outputs": [
    {
     "data": {
      "text/html": [
       "<div class=\"alert alert-block alert-success\">Your tag bigrams look good!</div>"
      ],
      "text/plain": [
       "<IPython.core.display.HTML object>"
      ]
     },
     "execution_count": 17,
     "metadata": {},
     "output_type": "execute_result"
    }
   ],
   "source": [
    "def bigram_counts(sequences):\n",
    "    \"\"\"Return a dictionary keyed to each unique PAIR of values in the input sequences\n",
    "    list that counts the number of occurrences of pair in the sequences list. The input\n",
    "    should be a 2-dimensional array.\n",
    "    \n",
    "    For example, if the pair of tags (NOUN, VERB) appear 61582 times, then you should\n",
    "    return a dictionary such that your_bigram_counts[(NOUN, VERB)] == 61582\n",
    "    \"\"\"\n",
    "    bg_dict = dict()\n",
    "    for list_seq in sequences:\n",
    "        for i in range(len(list_seq)-1):\n",
    "            key = list_seq[i], list_seq[i+1]\n",
    "            bg_dict[key]=bg_dict.get(key,0)+1\n",
    "    return bg_dict\n",
    "    raise NotImplementedError\n",
    "    \n",
    "    # TODO: Finish this function!\n",
    "    raise NotImplementedError\n",
    "\n",
    "# TODO: call bigram_counts with a list of tag sequences from the training set\n",
    "tag_bigrams = bigram_counts([list(item) for item in data.training_set.Y])\n",
    "\n",
    "assert len(tag_bigrams) == 144, \\\n",
    "       \"Uh oh. There should be 144 pairs of bigrams (12 tags x 12 tags)\"\n",
    "assert min(tag_bigrams, key=tag_bigrams.get) in [('X', 'NUM'), ('PRON', 'X')], \\\n",
    "       \"Hmmm...The least common bigram should be one of ('X', 'NUM') or ('PRON', 'X').\"\n",
    "assert max(tag_bigrams, key=tag_bigrams.get) in [('DET', 'NOUN')], \\\n",
    "       \"Hmmm...('DET', 'NOUN') is expected to be the most common bigram.\"\n",
    "HTML('<div class=\"alert alert-block alert-success\">Your tag bigrams look good!</div>')"
   ]
  },
  {
   "cell_type": "markdown",
   "metadata": {
    "nbpresent": {
     "id": "8ff40186-3f53-4d11-81fa-c31b5866ee03"
    }
   },
   "source": [
    "### IMPLEMENTATION: Sequence Starting Counts\n",
    "Complete the code below to estimate the bigram probabilities of a sequence starting with each tag."
   ]
  },
  {
   "cell_type": "code",
   "execution_count": 18,
   "metadata": {
    "nbpresent": {
     "id": "eb16d1e2-b210-4015-b394-5d04f5aa0042"
    }
   },
   "outputs": [
    {
     "data": {
      "text/html": [
       "<div class=\"alert alert-block alert-success\">Your starting tag counts look good!</div>"
      ],
      "text/plain": [
       "<IPython.core.display.HTML object>"
      ]
     },
     "execution_count": 18,
     "metadata": {},
     "output_type": "execute_result"
    }
   ],
   "source": [
    "def starting_counts(sequences):\n",
    "    \"\"\"Return a dictionary keyed to each unique value in the input sequences list\n",
    "    that counts the number of occurrences where that value is at the beginning of\n",
    "    a sequence.\n",
    "    \n",
    "    For example, if 8093 sequences start with NOUN, then you should return a\n",
    "    dictionary such that your_starting_counts[NOUN] == 8093\n",
    "    \"\"\"\n",
    "    # TODO: Finish this function!\n",
    "    sc_dict = dict()\n",
    "    for list_seq in sequences:\n",
    "        sc_dict[list_seq[0]]=sc_dict.get(list_seq[0],0)+1\n",
    "    return sc_dict\n",
    "    raise NotImplementedError\n",
    "\n",
    "# TODO: Calculate the count of each tag starting a sequence\n",
    "tag_starts = starting_counts([list(item) for item in data.training_set.Y])\n",
    "\n",
    "assert len(tag_starts) == 12, \"Uh oh. There should be 12 tags in your dictionary.\"\n",
    "assert min(tag_starts, key=tag_starts.get) == 'X', \"Hmmm...'X' is expected to be the least common starting bigram.\"\n",
    "assert max(tag_starts, key=tag_starts.get) == 'DET', \"Hmmm...'DET' is expected to be the most common starting bigram.\"\n",
    "HTML('<div class=\"alert alert-block alert-success\">Your starting tag counts look good!</div>')"
   ]
  },
  {
   "cell_type": "markdown",
   "metadata": {
    "nbpresent": {
     "id": "d6309b04-7dea-4ded-a596-7f2d57732149"
    }
   },
   "source": [
    "### IMPLEMENTATION: Sequence Ending Counts\n",
    "Complete the function below to estimate the bigram probabilities of a sequence ending with each tag."
   ]
  },
  {
   "cell_type": "code",
   "execution_count": 19,
   "metadata": {
    "nbpresent": {
     "id": "1ebef67c-fd03-45b5-838e-c1c654575983"
    }
   },
   "outputs": [
    {
     "data": {
      "text/html": [
       "<div class=\"alert alert-block alert-success\">Your ending tag counts look good!</div>"
      ],
      "text/plain": [
       "<IPython.core.display.HTML object>"
      ]
     },
     "execution_count": 19,
     "metadata": {},
     "output_type": "execute_result"
    }
   ],
   "source": [
    "def ending_counts(sequences):\n",
    "    \"\"\"Return a dictionary keyed to each unique value in the input sequences list\n",
    "    that counts the number of occurrences where that value is at the end of\n",
    "    a sequence.\n",
    "    \n",
    "    For example, if 18 sequences end with DET, then you should return a\n",
    "    dictionary such that your_starting_counts[DET] == 18\n",
    "    \"\"\"\n",
    "    # TODO: Finish this function!\n",
    "    ec_dict = dict()\n",
    "    for list_seq in sequences:\n",
    "        ec_dict[list_seq[-1]]=ec_dict.get(list_seq[-1],0)+1\n",
    "    return ec_dict\n",
    "    raise NotImplementedError\n",
    "\n",
    "# TODO: Calculate the count of each tag ending a sequence\n",
    "tag_ends = ending_counts([list(item) for item in data.training_set.Y])\n",
    "\n",
    "assert len(tag_ends) == 12, \"Uh oh. There should be 12 tags in your dictionary.\"\n",
    "assert min(tag_ends, key=tag_ends.get) in ['X', 'CONJ'], \"Hmmm...'X' or 'CONJ' should be the least common ending bigram.\"\n",
    "assert max(tag_ends, key=tag_ends.get) == '.', \"Hmmm...'.' is expected to be the most common ending bigram.\"\n",
    "HTML('<div class=\"alert alert-block alert-success\">Your ending tag counts look good!</div>')"
   ]
  },
  {
   "cell_type": "markdown",
   "metadata": {
    "nbpresent": {
     "id": "c7548ae6-4aaa-4866-bf9c-2182a6c674bb"
    }
   },
   "source": [
    "### IMPLEMENTATION: Basic HMM Tagger\n",
    "Use the tag unigrams and bigrams calculated above to construct a hidden Markov tagger.\n",
    "\n",
    "- Add one state per tag\n",
    "    - The emission distribution at each state should be estimated with the formula: $P(w|t) = \\frac{C(t, w)}{C(t)}$\n",
    "- Add an edge from the starting state `basic_model.start` to each tag\n",
    "    - The transition probability should be estimated with the formula: $P(t|start) = \\frac{C(start, t)}{C(start)}$\n",
    "- Add an edge from each tag to the end state `basic_model.end`\n",
    "    - The transition probability should be estimated with the formula: $P(end|t) = \\frac{C(t, end)}{C(t)}$\n",
    "- Add an edge between _every_ pair of tags\n",
    "    - The transition probability should be estimated with the formula: $P(t_2|t_1) = \\frac{C(t_1, t_2)}{C(t_1)}$"
   ]
  },
  {
   "cell_type": "code",
   "execution_count": 44,
   "metadata": {},
   "outputs": [
    {
     "data": {
      "text/plain": [
       "dict_keys(['ADV'])"
      ]
     },
     "execution_count": 44,
     "metadata": {},
     "output_type": "execute_result"
    }
   ],
   "source": [
    "states.keys()"
   ]
  },
  {
   "cell_type": "code",
   "execution_count": 45,
   "metadata": {
    "nbpresent": {
     "id": "98eae86e-4b44-4d05-ab4e-b4467f4f4c34"
    }
   },
   "outputs": [
    {
     "data": {
      "text/html": [
       "<div class=\"alert alert-block alert-success\">Your HMM network topology looks good!</div>"
      ],
      "text/plain": [
       "<IPython.core.display.HTML object>"
      ]
     },
     "execution_count": 45,
     "metadata": {},
     "output_type": "execute_result"
    }
   ],
   "source": [
    "basic_model = HiddenMarkovModel(name=\"base-hmm-tagger\")\n",
    "\n",
    "# TODO: create states with emission probability distributions P(word | tag) and add to the model\n",
    "# (Hint: you may need to loop & create/add new states)\n",
    "states = {}\n",
    "\n",
    "for key in emission_counts.keys():\n",
    "    count = sum(emission_counts[key].values())\n",
    "    pos_dict = dict()\n",
    "    for k in emission_counts[key].keys():\n",
    "        pos_dict[k] = emission_counts[key][k]/count\n",
    "    emission = DiscreteDistribution(pos_dict)    \n",
    "    states[key] = State(emission, name=key)\n",
    "    basic_model.add_state(states[key])\n",
    "\n",
    "# TODO: add edges between states for the observed transition frequencies P(tag_i | tag_i-1)\n",
    "# (Hint: you may need to loop & add transitions\n",
    "for key in tag_starts.keys():\n",
    "    basic_model.add_transition(basic_model.start, states[key], tag_starts[key]/sum(tag_starts.values()))\n",
    "\n",
    "for key in tag_ends.keys():\n",
    "    basic_model.add_transition(states[key], basic_model.end, tag_ends[key]/sum(tag_ends.values()))\n",
    "\n",
    "for key in tag_bigrams.keys():\n",
    "    key0 = key[0]\n",
    "    key1 = key[1]\n",
    "    sum_key0 = 0\n",
    "    for next_key in tag_unigrams.keys():\n",
    "        sum_key0 = sum_key0 + tag_bigrams[(key0, next_key)]\n",
    "    basic_model.add_transition(states[key[0]], states[key[1]], tag_bigrams[key]/sum_key0)\n",
    "    \n",
    "# NOTE: YOU SHOULD NOT NEED TO MODIFY ANYTHING BELOW THIS LINE\n",
    "# finalize the model\n",
    "basic_model.bake()\n",
    "\n",
    "assert all(tag in set(s.name for s in basic_model.states) for tag in data.training_set.tagset), \\\n",
    "       \"Every state in your network should use the name of the associated tag, which must be one of the training set tags.\"\n",
    "assert basic_model.edge_count() == 168, \\\n",
    "       (\"Your network should have an edge from the start node to each state, one edge between every \" +\n",
    "        \"pair of tags (states), and an edge from each state to the end node.\")\n",
    "HTML('<div class=\"alert alert-block alert-success\">Your HMM network topology looks good!</div>')"
   ]
  },
  {
   "cell_type": "code",
   "execution_count": 49,
   "metadata": {
    "nbpresent": {
     "id": "874004be-aaab-4c49-8077-824d442fc828"
    },
    "scrolled": true
   },
   "outputs": [
    {
     "name": "stdout",
     "output_type": "stream",
     "text": [
      "training accuracy basic hmm model: 97.54%\n",
      "testing accuracy basic hmm model: 96.16%\n"
     ]
    },
    {
     "data": {
      "text/html": [
       "<div class=\"alert alert-block alert-success\">Your HMM tagger accuracy looks correct! Congratulations, you've finished the project.</div>"
      ],
      "text/plain": [
       "<IPython.core.display.HTML object>"
      ]
     },
     "execution_count": 49,
     "metadata": {},
     "output_type": "execute_result"
    }
   ],
   "source": [
    "hmm_training_acc = accuracy(data.training_set.X, data.training_set.Y, basic_model)\n",
    "print(\"training accuracy basic hmm model: {:.2f}%\".format(100 * hmm_training_acc))\n",
    "\n",
    "hmm_testing_acc = accuracy(data.testing_set.X, data.testing_set.Y, basic_model)\n",
    "print(\"testing accuracy basic hmm model: {:.2f}%\".format(100 * hmm_testing_acc))\n",
    "\n",
    "assert hmm_training_acc > 0.97, \"Uh oh. Your HMM accuracy on the training set doesn't look right.\"\n",
    "assert hmm_testing_acc > 0.955, \"Uh oh. Your HMM accuracy on the testing set doesn't look right.\"\n",
    "HTML('<div class=\"alert alert-block alert-success\">Your HMM tagger accuracy looks correct! Congratulations, you\\'ve finished the project.</div>')"
   ]
  },
  {
   "cell_type": "markdown",
   "metadata": {
    "nbpresent": {
     "id": "80da7534-dbca-4c09-9865-a712dcb08475"
    }
   },
   "source": [
    "### Example Decoding Sequences with the HMM Tagger"
   ]
  },
  {
   "cell_type": "code",
   "execution_count": 50,
   "metadata": {
    "nbpresent": {
     "id": "baea8f51-820f-4c61-a80e-59a4f5ffa15c"
    }
   },
   "outputs": [
    {
     "name": "stdout",
     "output_type": "stream",
     "text": [
      "Sentence Key: b100-28144\n",
      "\n",
      "Predicted labels:\n",
      "-----------------\n",
      "['CONJ', 'NOUN', 'NUM', '.', 'NOUN', 'NUM', '.', 'NOUN', 'NUM', '.', 'CONJ', 'NOUN', 'NUM', '.', '.', 'NOUN', '.', '.']\n",
      "\n",
      "Actual labels:\n",
      "--------------\n",
      "('CONJ', 'NOUN', 'NUM', '.', 'NOUN', 'NUM', '.', 'NOUN', 'NUM', '.', 'CONJ', 'NOUN', 'NUM', '.', '.', 'NOUN', '.', '.')\n",
      "\n",
      "\n",
      "Sentence Key: b100-23146\n",
      "\n",
      "Predicted labels:\n",
      "-----------------\n",
      "['PRON', 'VERB', 'DET', 'NOUN', 'ADP', 'ADJ', 'ADJ', 'NOUN', 'VERB', 'VERB', '.', 'ADP', 'VERB', 'DET', 'NOUN', 'ADP', 'NOUN', 'ADP', 'DET', 'NOUN', '.']\n",
      "\n",
      "Actual labels:\n",
      "--------------\n",
      "('PRON', 'VERB', 'DET', 'NOUN', 'ADP', 'ADJ', 'ADJ', 'NOUN', 'VERB', 'VERB', '.', 'ADP', 'VERB', 'DET', 'NOUN', 'ADP', 'NOUN', 'ADP', 'DET', 'NOUN', '.')\n",
      "\n",
      "\n",
      "Sentence Key: b100-35462\n",
      "\n",
      "Predicted labels:\n",
      "-----------------\n",
      "['DET', 'ADJ', 'NOUN', 'VERB', 'VERB', 'VERB', 'ADP', 'DET', 'ADJ', 'ADJ', 'NOUN', 'ADP', 'DET', 'ADJ', 'NOUN', '.', 'ADP', 'ADJ', 'NOUN', '.', 'CONJ', 'ADP', 'DET', 'NOUN', 'ADP', 'ADJ', 'ADJ', '.', 'ADJ', '.', 'CONJ', 'ADJ', 'NOUN', 'ADP', 'ADJ', 'NOUN', '.']\n",
      "\n",
      "Actual labels:\n",
      "--------------\n",
      "('DET', 'ADJ', 'NOUN', 'VERB', 'VERB', 'VERB', 'ADP', 'DET', 'ADJ', 'ADJ', 'NOUN', 'ADP', 'DET', 'ADJ', 'NOUN', '.', 'ADP', 'ADJ', 'NOUN', '.', 'CONJ', 'ADP', 'DET', 'NOUN', 'ADP', 'ADJ', 'ADJ', '.', 'ADJ', '.', 'CONJ', 'ADJ', 'NOUN', 'ADP', 'ADJ', 'NOUN', '.')\n",
      "\n",
      "\n"
     ]
    }
   ],
   "source": [
    "for key in data.testing_set.keys[:3]:\n",
    "    print(\"Sentence Key: {}\\n\".format(key))\n",
    "    print(\"Predicted labels:\\n-----------------\")\n",
    "    print(simplify_decoding(data.sentences[key].words, basic_model))\n",
    "    print()\n",
    "    print(\"Actual labels:\\n--------------\")\n",
    "    print(data.sentences[key].tags)\n",
    "    print(\"\\n\")"
   ]
  },
  {
   "cell_type": "markdown",
   "metadata": {
    "nbpresent": {
     "id": "01336971-3215-4172-bf4c-1d9b376b6e2f"
    }
   },
   "source": [
    "\n",
    "## Finishing the project\n",
    "---\n",
    "\n",
    "<div class=\"alert alert-block alert-info\">\n",
    "**Note:** **SAVE YOUR NOTEBOOK**, then run the next cell to generate an HTML copy. You will zip & submit both this file and the HTML copy for review.\n",
    "</div>"
   ]
  },
  {
   "cell_type": "code",
   "execution_count": 51,
   "metadata": {
    "nbpresent": {
     "id": "95421d89-2bce-421e-b263-392e6de9e329"
    }
   },
   "outputs": [
    {
     "data": {
      "text/plain": [
       "['[NbConvertApp] Converting notebook HMM Tagger.ipynb to html',\n",
       " '[NbConvertApp] Writing 356700 bytes to HMM Tagger.html',\n",
       " '[NbConvertApp] Converting notebook HMM warmup (optional).ipynb to html',\n",
       " '[NbConvertApp] Writing 309149 bytes to HMM warmup (optional).html']"
      ]
     },
     "execution_count": 51,
     "metadata": {},
     "output_type": "execute_result"
    }
   ],
   "source": [
    "!!jupyter nbconvert *.ipynb"
   ]
  },
  {
   "cell_type": "markdown",
   "metadata": {
    "nbpresent": {
     "id": "24783728-2d7e-42f4-aa55-3bc48c898661"
    }
   },
   "source": [
    "## Step 4: [Optional] Improving model performance\n",
    "---\n",
    "There are additional enhancements that can be incorporated into your tagger that improve performance on larger tagsets where the data sparsity problem is more significant. The data sparsity problem arises because the same amount of data split over more tags means there will be fewer samples in each tag, and there will be more missing data  tags that have zero occurrences in the data. The techniques in this section are optional.\n",
    "\n",
    "- [Laplace Smoothing](https://en.wikipedia.org/wiki/Additive_smoothing) (pseudocounts)\n",
    "    Laplace smoothing is a technique where you add a small, non-zero value to all observed counts to offset for unobserved values.\n",
    "\n",
    "- Backoff Smoothing\n",
    "    Another smoothing technique is to interpolate between n-grams for missing data. This method is more effective than Laplace smoothing at combatting the data sparsity problem. Refer to chapters 4, 9, and 10 of the [Speech & Language Processing](https://web.stanford.edu/~jurafsky/slp3/) book for more information.\n",
    "\n",
    "- Extending to Trigrams\n",
    "    HMM taggers have achieved better than 96% accuracy on this dataset with the full Penn treebank tagset using an architecture described in [this](http://www.coli.uni-saarland.de/~thorsten/publications/Brants-ANLP00.pdf) paper. Altering your HMM to achieve the same performance would require implementing deleted interpolation (described in the paper), incorporating trigram probabilities in your frequency tables, and re-implementing the Viterbi algorithm to consider three consecutive states instead of two.\n",
    "\n",
    "### Obtain the Brown Corpus with a Larger Tagset\n",
    "Run the code below to download a copy of the brown corpus with the full NLTK tagset. You will need to research the available tagset information in the NLTK docs and determine the best way to extract the subset of NLTK tags you want to explore. If you write the following the format specified in Step 1, then you can reload the data using all of the code above for comparison.\n",
    "\n",
    "Refer to [Chapter 5](http://www.nltk.org/book/ch05.html) of the NLTK book for more information on the available tagsets."
   ]
  },
  {
   "cell_type": "code",
   "execution_count": null,
   "metadata": {
    "collapsed": true,
    "nbpresent": {
     "id": "3206ed98-1b09-4c65-aa8e-b3ef700640f3"
    }
   },
   "outputs": [],
   "source": [
    "import nltk\n",
    "from nltk import pos_tag, word_tokenize\n",
    "from nltk.corpus import brown\n",
    "\n",
    "nltk.download('brown')\n",
    "training_corpus = nltk.corpus.brown\n",
    "training_corpus.tagged_sents()[0]"
   ]
  }
 ],
 "metadata": {
  "kernelspec": {
   "display_name": "Python [default]",
   "language": "python",
   "name": "python3"
  },
  "language_info": {
   "codemirror_mode": {
    "name": "ipython",
    "version": 3
   },
   "file_extension": ".py",
   "mimetype": "text/x-python",
   "name": "python",
   "nbconvert_exporter": "python",
   "pygments_lexer": "ipython3",
   "version": "3.5.4"
  },
  "nbpresent": {
   "slides": {
    "009fc0f9-a4d7-4153-bb67-bc9a2ff71e3d": {
     "id": "009fc0f9-a4d7-4153-bb67-bc9a2ff71e3d",
     "prev": "bad8bd17-62f9-4195-bb35-d598b97c7835",
     "regions": {
      "c1075e7d-89a0-4b9b-8d4c-d37f2858037c": {
       "attrs": {
        "height": 0.8,
        "width": 0.8,
        "x": 0.1,
        "y": 0.1
       },
       "content": {
        "cell": "95421d89-2bce-421e-b263-392e6de9e329",
        "part": "whole"
       },
       "id": "c1075e7d-89a0-4b9b-8d4c-d37f2858037c"
      }
     }
    },
    "06929194-c922-4938-a347-7f5740161902": {
     "id": "06929194-c922-4938-a347-7f5740161902",
     "prev": "d938b8b2-ecd0-44c3-b23c-02d4bc2b28bc",
     "regions": {
      "68af02e2-3b56-4f2d-b62e-dc6d34a33af5": {
       "attrs": {
        "height": 0.8,
        "width": 0.8,
        "x": 0.1,
        "y": 0.1
       },
       "content": {
        "cell": "dd45407d-843a-47d0-a38c-75fa0b230830",
        "part": "whole"
       },
       "id": "68af02e2-3b56-4f2d-b62e-dc6d34a33af5"
      }
     }
    },
    "0bb395ce-b083-4d94-b8ac-fb5230ade6b3": {
     "id": "0bb395ce-b083-4d94-b8ac-fb5230ade6b3",
     "prev": "83d414ad-d836-4d74-a835-4c06f6ab8e26",
     "regions": {
      "5da6b4c5-4faa-4457-b76a-2b849a670ba6": {
       "attrs": {
        "height": 0.8,
        "width": 0.8,
        "x": 0.1,
        "y": 0.1
       },
       "content": {
        "cell": "4998bde8-4926-4721-bc65-80b3e34cea5c",
        "part": "whole"
       },
       "id": "5da6b4c5-4faa-4457-b76a-2b849a670ba6"
      }
     }
    },
    "0d5ecdc4-d22d-4470-8195-18239b78ce59": {
     "id": "0d5ecdc4-d22d-4470-8195-18239b78ce59",
     "prev": "167df681-8999-4673-922d-d67d8a6172d9",
     "regions": {
      "9daac873-82d3-4c3e-8c7c-c35d8cd94487": {
       "attrs": {
        "height": 0.8,
        "width": 0.8,
        "x": 0.1,
        "y": 0.1
       },
       "content": {
        "cell": "317a1f76-ec29-43c0-b15a-06d0bbd3cd51",
        "part": "whole"
       },
       "id": "9daac873-82d3-4c3e-8c7c-c35d8cd94487"
      }
     }
    },
    "0d849446-1882-4bf8-995b-c363555adbbe": {
     "id": "0d849446-1882-4bf8-995b-c363555adbbe",
     "prev": "69ce6ba4-d64c-4f0b-8837-d466b3869575",
     "regions": {
      "869e919b-b881-4e66-b533-c770ccb081d3": {
       "attrs": {
        "height": 0.8,
        "width": 0.8,
        "x": 0.1,
        "y": 0.1
       },
       "content": {
        "cell": "118f3ce8-9630-4cff-af3c-8c03de90fe5a",
        "part": "whole"
       },
       "id": "869e919b-b881-4e66-b533-c770ccb081d3"
      }
     }
    },
    "167df681-8999-4673-922d-d67d8a6172d9": {
     "id": "167df681-8999-4673-922d-d67d8a6172d9",
     "prev": "6d5a67bc-828d-4b4a-b54a-6c63c917d924",
     "regions": {
      "3367269f-ea60-473c-95aa-28dc2e11f44b": {
       "attrs": {
        "height": 0.8,
        "width": 0.8,
        "x": 0.1,
        "y": 0.1
       },
       "content": {
        "cell": "fff755f2-d007-4075-97fc-4f7467512f7a",
        "part": "whole"
       },
       "id": "3367269f-ea60-473c-95aa-28dc2e11f44b"
      }
     }
    },
    "1c8838b8-7dda-4fb3-b1c4-c78278b3e10b": {
     "id": "1c8838b8-7dda-4fb3-b1c4-c78278b3e10b",
     "prev": "75ce8b1c-8a65-4ca9-9ed1-438cde9ddd3e",
     "regions": {
      "ef6240b1-4a60-4448-8b52-a643306c3394": {
       "attrs": {
        "height": 0.8,
        "width": 0.8,
        "x": 0.1,
        "y": 0.1
       },
       "content": {
        "cell": "98568b21-2051-4d29-964a-405292d83f82",
        "part": "whole"
       },
       "id": "ef6240b1-4a60-4448-8b52-a643306c3394"
      }
     }
    },
    "1f3dc878-8666-4860-909e-6d4f8b9dc83a": {
     "id": "1f3dc878-8666-4860-909e-6d4f8b9dc83a",
     "prev": "72bd0e6e-7a76-43ac-be9d-ca48009e1835",
     "regions": {
      "4d33c8d4-d6fa-4bbc-b87b-9de2cf522728": {
       "attrs": {
        "height": 0.8,
        "width": 0.8,
        "x": 0.1,
        "y": 0.1
       },
       "content": {
        "cell": "874004be-aaab-4c49-8077-824d442fc828",
        "part": "whole"
       },
       "id": "4d33c8d4-d6fa-4bbc-b87b-9de2cf522728"
      }
     }
    },
    "2a362f75-03e7-480e-8a8f-ab557d4828c6": {
     "id": "2a362f75-03e7-480e-8a8f-ab557d4828c6",
     "prev": "009fc0f9-a4d7-4153-bb67-bc9a2ff71e3d",
     "regions": {
      "d1b1e480-8763-48d8-863f-fdb95b8df20e": {
       "attrs": {
        "height": 0.8,
        "width": 0.8,
        "x": 0.1,
        "y": 0.1
       },
       "content": {
        "cell": "24783728-2d7e-42f4-aa55-3bc48c898661",
        "part": "whole"
       },
       "id": "d1b1e480-8763-48d8-863f-fdb95b8df20e"
      }
     }
    },
    "2c4961d7-3627-40b7-a03d-d982395276ea": {
     "id": "2c4961d7-3627-40b7-a03d-d982395276ea",
     "prev": "47e91274-8ab6-423e-b733-701e7a237763",
     "regions": {
      "ad03cf66-48b0-4b65-9b03-db4b1d9d4338": {
       "attrs": {
        "height": 0.8,
        "width": 0.8,
        "x": 0.1,
        "y": 0.1
       },
       "content": {
        "cell": "01972f7b-2dd2-4977-b9df-7a05c6bdddb5",
        "part": "whole"
       },
       "id": "ad03cf66-48b0-4b65-9b03-db4b1d9d4338"
      }
     }
    },
    "35315660-7e74-4544-b22f-137b38f67ef8": {
     "id": "35315660-7e74-4544-b22f-137b38f67ef8",
     "prev": "b83974ff-23d7-4e87-8078-f6254e0bba2c",
     "regions": {
      "6ff3e1e1-fb1c-42f6-ad22-2bdf48d7daea": {
       "attrs": {
        "height": 0.8,
        "width": 0.8,
        "x": 0.1,
        "y": 0.1
       },
       "content": {
        "cell": "c7548ae6-4aaa-4866-bf9c-2182a6c674bb",
        "part": "whole"
       },
       "id": "6ff3e1e1-fb1c-42f6-ad22-2bdf48d7daea"
      }
     }
    },
    "3ee5a029-7e9c-421a-9bcf-47df64d3ccf0": {
     "id": "3ee5a029-7e9c-421a-9bcf-47df64d3ccf0",
     "prev": "76ec1206-b5b8-4a28-ae3e-2a8e474ff31f",
     "regions": {
      "6366d4d3-2aa1-476a-923e-ac845e2d7789": {
       "attrs": {
        "height": 0.8,
        "width": 0.8,
        "x": 0.1,
        "y": 0.1
       },
       "content": {
        "cell": "2686c7bf-8248-4274-bf05-85e107d108af",
        "part": "whole"
       },
       "id": "6366d4d3-2aa1-476a-923e-ac845e2d7789"
      }
     }
    },
    "46e239ef-965d-4c64-8b3b-baddc4af49bf": {
     "id": "46e239ef-965d-4c64-8b3b-baddc4af49bf",
     "prev": "f7b9a871-d40b-4d40-84e6-b120c39d293f",
     "regions": {
      "412866d4-4527-49a5-88dd-f5d815a342e9": {
       "attrs": {
        "height": 0.8,
        "width": 0.8,
        "x": 0.1,
        "y": 0.1
       },
       "content": {
        "cell": "7dc39600-ce60-4f4b-94a7-a5da883f9088",
        "part": "whole"
       },
       "id": "412866d4-4527-49a5-88dd-f5d815a342e9"
      }
     }
    },
    "4745347d-626b-45ba-8f10-8fcb5ed1da60": {
     "id": "4745347d-626b-45ba-8f10-8fcb5ed1da60",
     "prev": "e97f5b57-b275-4824-91bb-8e28600aaa96",
     "regions": {
      "49418f72-8550-4879-9b21-a0aa46ec91e5": {
       "attrs": {
        "height": 0.8,
        "width": 0.8,
        "x": 0.1,
        "y": 0.1
       },
       "content": {
        "cell": "9fe159f6-033d-403e-b585-2f5b8c5c4643",
        "part": "whole"
       },
       "id": "49418f72-8550-4879-9b21-a0aa46ec91e5"
      }
     }
    },
    "47e91274-8ab6-423e-b733-701e7a237763": {
     "id": "47e91274-8ab6-423e-b733-701e7a237763",
     "prev": "4745347d-626b-45ba-8f10-8fcb5ed1da60",
     "regions": {
      "68fe25c0-1da2-4e11-bec5-bee9eed64e2a": {
       "attrs": {
        "height": 0.8,
        "width": 0.8,
        "x": 0.1,
        "y": 0.1
       },
       "content": {
        "cell": "6ea660b6-ec4d-4a6c-9851-e290b7d4bf42",
        "part": "whole"
       },
       "id": "68fe25c0-1da2-4e11-bec5-bee9eed64e2a"
      }
     }
    },
    "69ce6ba4-d64c-4f0b-8837-d466b3869575": {
     "id": "69ce6ba4-d64c-4f0b-8837-d466b3869575",
     "prev": "ca0b479d-2877-4053-8173-7a2f21f19996",
     "regions": {
      "6978acf2-a9c5-4367-acde-2853c4dc2ed6": {
       "attrs": {
        "height": 0.8,
        "width": 0.8,
        "x": 0.1,
        "y": 0.1
       },
       "content": {
        "cell": "0654bc0a-0f4c-4bba-b0f7-382bbcdd798d",
        "part": "whole"
       },
       "id": "6978acf2-a9c5-4367-acde-2853c4dc2ed6"
      }
     }
    },
    "6cbbc281-a764-4171-a338-ec1acc17bcab": {
     "id": "6cbbc281-a764-4171-a338-ec1acc17bcab",
     "prev": "46e239ef-965d-4c64-8b3b-baddc4af49bf",
     "regions": {
      "2da35f69-ea56-41f4-bdb7-d08912fc49bf": {
       "attrs": {
        "height": 0.8,
        "width": 0.8,
        "x": 0.1,
        "y": 0.1
       },
       "content": {
        "cell": "ad70f097-da53-42da-8875-f8bae7a3f149",
        "part": "whole"
       },
       "id": "2da35f69-ea56-41f4-bdb7-d08912fc49bf"
      }
     }
    },
    "6d5a67bc-828d-4b4a-b54a-6c63c917d924": {
     "id": "6d5a67bc-828d-4b4a-b54a-6c63c917d924",
     "prev": "915b9e1d-e289-4392-a952-61454323d61a",
     "regions": {
      "1235bbba-b564-42ee-9adf-9338fb94387e": {
       "attrs": {
        "height": 0.8,
        "width": 0.8,
        "x": 0.1,
        "y": 0.1
       },
       "content": {
        "cell": "e06f07b2-5676-4b95-8313-57d079a8a85b",
        "part": "whole"
       },
       "id": "1235bbba-b564-42ee-9adf-9338fb94387e"
      }
     }
    },
    "72bd0e6e-7a76-43ac-be9d-ca48009e1835": {
     "id": "72bd0e6e-7a76-43ac-be9d-ca48009e1835",
     "prev": "35315660-7e74-4544-b22f-137b38f67ef8",
     "regions": {
      "1158a507-c67a-4e76-b0a3-59460e3f8263": {
       "attrs": {
        "height": 0.8,
        "width": 0.8,
        "x": 0.1,
        "y": 0.1
       },
       "content": {
        "cell": "98eae86e-4b44-4d05-ab4e-b4467f4f4c34",
        "part": "whole"
       },
       "id": "1158a507-c67a-4e76-b0a3-59460e3f8263"
      }
     }
    },
    "75ce8b1c-8a65-4ca9-9ed1-438cde9ddd3e": {
     "id": "75ce8b1c-8a65-4ca9-9ed1-438cde9ddd3e",
     "prev": "f6bedabe-af6d-4c8e-b671-930d80588713",
     "regions": {
      "7128dfdf-6993-4096-b3c1-de25b34fde1f": {
       "attrs": {
        "height": 0.8,
        "width": 0.8,
        "x": 0.1,
        "y": 0.1
       },
       "content": {
        "cell": "ec5bd9d0-44d7-4640-b27a-1c70ca460a10",
        "part": "whole"
       },
       "id": "7128dfdf-6993-4096-b3c1-de25b34fde1f"
      }
     }
    },
    "76ec1206-b5b8-4a28-ae3e-2a8e474ff31f": {
     "id": "76ec1206-b5b8-4a28-ae3e-2a8e474ff31f",
     "prev": "ac23c713-3686-4389-bb2a-b46a9fc58d0a",
     "regions": {
      "7755f7fe-ba4a-4991-b3ea-6a8bf865fa05": {
       "attrs": {
        "height": 0.8,
        "width": 0.8,
        "x": 0.1,
        "y": 0.1
       },
       "content": {
        "cell": "9a6b10aa-fb34-434a-8a41-72966e7dd151",
        "part": "whole"
       },
       "id": "7755f7fe-ba4a-4991-b3ea-6a8bf865fa05"
      }
     }
    },
    "7a08592b-df5e-4c53-b97c-56f47a98643e": {
     "id": "7a08592b-df5e-4c53-b97c-56f47a98643e",
     "prev": "b31941b8-401c-475a-81c9-5dc836a8ce22",
     "regions": {
      "92eefa3a-8c11-43de-84d8-e287125cb4ca": {
       "attrs": {
        "height": 0.8,
        "width": 0.8,
        "x": 0.1,
        "y": 0.1
       },
       "content": {
        "cell": "d6309b04-7dea-4ded-a596-7f2d57732149",
        "part": "whole"
       },
       "id": "92eefa3a-8c11-43de-84d8-e287125cb4ca"
      }
     }
    },
    "83d414ad-d836-4d74-a835-4c06f6ab8e26": {
     "id": "83d414ad-d836-4d74-a835-4c06f6ab8e26",
     "prev": "c4e15942-e25f-4d33-a169-413c09d106c2",
     "regions": {
      "2f86177b-d137-4450-ba53-f3b5b692c1ca": {
       "attrs": {
        "height": 0.8,
        "width": 0.8,
        "x": 0.1,
        "y": 0.1
       },
       "content": {
        "cell": "f812fc76-81a5-489f-9471-b1c4547d3f2e",
        "part": "whole"
       },
       "id": "2f86177b-d137-4450-ba53-f3b5b692c1ca"
      }
     }
    },
    "88a01380-d26b-44a5-b233-601f6f1027c4": {
     "id": "88a01380-d26b-44a5-b233-601f6f1027c4",
     "prev": "a2e140d3-2bf9-44ea-866e-0e4b646e590a",
     "regions": {
      "ac3603ff-7764-45ea-a307-aa2541d97ba9": {
       "attrs": {
        "height": 0.8,
        "width": 0.8,
        "x": 0.1,
        "y": 0.1
       },
       "content": {
        "cell": "ad82d00d-40ac-442d-a29a-009d1e081d9b",
        "part": "whole"
       },
       "id": "ac3603ff-7764-45ea-a307-aa2541d97ba9"
      }
     }
    },
    "8b075a5b-9add-4583-abe5-987c97ba176e": {
     "id": "8b075a5b-9add-4583-abe5-987c97ba176e",
     "prev": "e340e789-729d-4007-8459-fe4fffcbbb84",
     "regions": {
      "d1f58e42-d242-47ce-af4f-1b9794bf54f2": {
       "attrs": {
        "height": 0.8,
        "width": 0.8,
        "x": 0.1,
        "y": 0.1
       },
       "content": {
        "cell": "baea8f51-820f-4c61-a80e-59a4f5ffa15c",
        "part": "whole"
       },
       "id": "d1f58e42-d242-47ce-af4f-1b9794bf54f2"
      }
     }
    },
    "8c7c1d7c-0451-4e5b-ba4e-e4fa7ded8821": {
     "id": "8c7c1d7c-0451-4e5b-ba4e-e4fa7ded8821",
     "prev": "a61c41e8-d1ec-49aa-b130-c3b4e00cd3ad",
     "regions": {
      "1db2d991-dbaa-4aa8-9e98-e8e3fd0877bb": {
       "attrs": {
        "height": 0.8,
        "width": 0.8,
        "x": 0.1,
        "y": 0.1
       },
       "content": {
        "cell": "3313197e-7f84-46c6-ad9f-b97a5e20675e",
        "part": "whole"
       },
       "id": "1db2d991-dbaa-4aa8-9e98-e8e3fd0877bb"
      }
     }
    },
    "915b9e1d-e289-4392-a952-61454323d61a": {
     "id": "915b9e1d-e289-4392-a952-61454323d61a",
     "prev": "88a01380-d26b-44a5-b233-601f6f1027c4",
     "regions": {
      "11af3d61-1400-4404-b9c1-b758ccfe526b": {
       "attrs": {
        "height": 0.8,
        "width": 0.8,
        "x": 0.1,
        "y": 0.1
       },
       "content": {
        "cell": "d23837bf-e7a7-4c97-a116-21caf4ad619c",
        "part": "whole"
       },
       "id": "11af3d61-1400-4404-b9c1-b758ccfe526b"
      }
     }
    },
    "991c5b6d-9a93-4882-bc60-34cc2128b717": {
     "id": "991c5b6d-9a93-4882-bc60-34cc2128b717",
     "prev": "f08a7c59-fb8c-408e-8e48-0a4a89171a45",
     "regions": {
      "5dbb2d76-f622-4583-aa3c-b11ec06315c6": {
       "attrs": {
        "height": 0.8,
        "width": 0.8,
        "x": 0.1,
        "y": 0.1
       },
       "content": {
        "cell": "f2104c2e-b22b-453b-b3b9-a41d6f38afa1",
        "part": "whole"
       },
       "id": "5dbb2d76-f622-4583-aa3c-b11ec06315c6"
      }
     }
    },
    "a034f445-53e0-4615-9779-336b2249df76": {
     "id": "a034f445-53e0-4615-9779-336b2249df76",
     "prev": "2c4961d7-3627-40b7-a03d-d982395276ea",
     "regions": {
      "16d83a9b-fa4b-4509-86b3-215dca647d45": {
       "attrs": {
        "height": 0.8,
        "width": 0.8,
        "x": 0.1,
        "y": 0.1
       },
       "content": {
        "cell": "1bfe0b5f-adf7-4f6a-a87b-c0c11eb0cf66",
        "part": "whole"
       },
       "id": "16d83a9b-fa4b-4509-86b3-215dca647d45"
      }
     }
    },
    "a2e140d3-2bf9-44ea-866e-0e4b646e590a": {
     "id": "a2e140d3-2bf9-44ea-866e-0e4b646e590a",
     "prev": "a034f445-53e0-4615-9779-336b2249df76",
     "regions": {
      "6eae742e-d767-4023-bc42-08affa925a9c": {
       "attrs": {
        "height": 0.8,
        "width": 0.8,
        "x": 0.1,
        "y": 0.1
       },
       "content": {
        "cell": "70d9af74-5c82-4b85-86d1-b14b37f33fc6",
        "part": "whole"
       },
       "id": "6eae742e-d767-4023-bc42-08affa925a9c"
      }
     }
    },
    "a4dce454-f128-4901-a99a-cc76e250a43b": {
     "id": "a4dce454-f128-4901-a99a-cc76e250a43b",
     "prev": "06929194-c922-4938-a347-7f5740161902",
     "regions": {
      "e18d0487-5f74-48f7-88c9-6e0f7675ba81": {
       "attrs": {
        "height": 0.8,
        "width": 0.8,
        "x": 0.1,
        "y": 0.1
       },
       "content": {
        "cell": "8ff40186-3f53-4d11-81fa-c31b5866ee03",
        "part": "whole"
       },
       "id": "e18d0487-5f74-48f7-88c9-6e0f7675ba81"
      }
     }
    },
    "a61c41e8-d1ec-49aa-b130-c3b4e00cd3ad": {
     "id": "a61c41e8-d1ec-49aa-b130-c3b4e00cd3ad",
     "prev": null,
     "regions": {
      "6e070fd8-efe8-41d0-9c06-42c674f07136": {
       "attrs": {
        "height": 0.8,
        "width": 0.8,
        "x": 0.1,
        "y": 0.1
       },
       "content": {
        "cell": "46f0166f-a4e2-4373-ad54-40099b7a4601",
        "part": "whole"
       },
       "id": "6e070fd8-efe8-41d0-9c06-42c674f07136"
      }
     }
    },
    "a87158d1-6891-489e-b6e3-f7376e249128": {
     "id": "a87158d1-6891-489e-b6e3-f7376e249128",
     "prev": "6cbbc281-a764-4171-a338-ec1acc17bcab",
     "regions": {
      "54dc6c88-01a9-4dfa-8a99-13acc1b2643c": {
       "attrs": {
        "height": 0.8,
        "width": 0.8,
        "x": 0.1,
        "y": 0.1
       },
       "content": {
        "cell": "71383b05-430f-4068-828a-4497fd991322",
        "part": "whole"
       },
       "id": "54dc6c88-01a9-4dfa-8a99-13acc1b2643c"
      }
     }
    },
    "ac23c713-3686-4389-bb2a-b46a9fc58d0a": {
     "id": "ac23c713-3686-4389-bb2a-b46a9fc58d0a",
     "prev": "ca76b5f1-1c2b-4a08-a847-a835b7fedfd2",
     "regions": {
      "22231086-a017-48fa-9b67-19a059a219c6": {
       "attrs": {
        "height": 0.8,
        "width": 0.8,
        "x": 0.1,
        "y": 0.1
       },
       "content": {
        "cell": "2d4059fb-d698-4807-acd3-97d7ea35811b",
        "part": "whole"
       },
       "id": "22231086-a017-48fa-9b67-19a059a219c6"
      }
     }
    },
    "b31941b8-401c-475a-81c9-5dc836a8ce22": {
     "id": "b31941b8-401c-475a-81c9-5dc836a8ce22",
     "prev": "a4dce454-f128-4901-a99a-cc76e250a43b",
     "regions": {
      "7b990cea-987b-4bce-be5f-b1c5c456953b": {
       "attrs": {
        "height": 0.8,
        "width": 0.8,
        "x": 0.1,
        "y": 0.1
       },
       "content": {
        "cell": "eb16d1e2-b210-4015-b394-5d04f5aa0042",
        "part": "whole"
       },
       "id": "7b990cea-987b-4bce-be5f-b1c5c456953b"
      }
     }
    },
    "b83974ff-23d7-4e87-8078-f6254e0bba2c": {
     "id": "b83974ff-23d7-4e87-8078-f6254e0bba2c",
     "prev": "7a08592b-df5e-4c53-b97c-56f47a98643e",
     "regions": {
      "a237f3e8-75a1-4ec3-bc69-06da59ee71ac": {
       "attrs": {
        "height": 0.8,
        "width": 0.8,
        "x": 0.1,
        "y": 0.1
       },
       "content": {
        "cell": "1ebef67c-fd03-45b5-838e-c1c654575983",
        "part": "whole"
       },
       "id": "a237f3e8-75a1-4ec3-bc69-06da59ee71ac"
      }
     }
    },
    "bad8bd17-62f9-4195-bb35-d598b97c7835": {
     "id": "bad8bd17-62f9-4195-bb35-d598b97c7835",
     "prev": "8b075a5b-9add-4583-abe5-987c97ba176e",
     "regions": {
      "d12b4572-8019-4020-bdbf-41a2bff5c2cb": {
       "attrs": {
        "height": 0.8,
        "width": 0.8,
        "x": 0.1,
        "y": 0.1
       },
       "content": {
        "cell": "01336971-3215-4172-bf4c-1d9b376b6e2f",
        "part": "whole"
       },
       "id": "d12b4572-8019-4020-bdbf-41a2bff5c2cb"
      }
     }
    },
    "bc6d87c7-01a6-4bf6-87ed-f54615704627": {
     "id": "bc6d87c7-01a6-4bf6-87ed-f54615704627",
     "prev": "2a362f75-03e7-480e-8a8f-ab557d4828c6",
     "regions": {
      "8622c1f7-fbc7-4339-a948-a344d57d2d28": {
       "attrs": {
        "height": 0.8,
        "width": 0.8,
        "x": 0.1,
        "y": 0.1
       },
       "content": {
        "cell": "3206ed98-1b09-4c65-aa8e-b3ef700640f3",
        "part": "whole"
       },
       "id": "8622c1f7-fbc7-4339-a948-a344d57d2d28"
      }
     }
    },
    "c4e15942-e25f-4d33-a169-413c09d106c2": {
     "id": "c4e15942-e25f-4d33-a169-413c09d106c2",
     "prev": "f686993f-4752-4454-8f51-ffe4190a14b2",
     "regions": {
      "6ab6da25-449b-403e-bf1c-4007356a662b": {
       "attrs": {
        "height": 0.8,
        "width": 0.8,
        "x": 0.1,
        "y": 0.1
       },
       "content": {
        "cell": "b3cf8443-804a-4ccd-8812-3e3e6c2763fc",
        "part": "whole"
       },
       "id": "6ab6da25-449b-403e-bf1c-4007356a662b"
      }
     }
    },
    "ca0b479d-2877-4053-8173-7a2f21f19996": {
     "id": "ca0b479d-2877-4053-8173-7a2f21f19996",
     "prev": "fa58ee9e-6eda-4354-9531-e94a8726757d",
     "regions": {
      "5f4096b0-60f6-48b3-a401-c4b7f9ae33fc": {
       "attrs": {
        "height": 0.8,
        "width": 0.8,
        "x": 0.1,
        "y": 0.1
       },
       "content": {
        "cell": "934889e8-52d3-4452-abca-9449e97edb28",
        "part": "whole"
       },
       "id": "5f4096b0-60f6-48b3-a401-c4b7f9ae33fc"
      }
     }
    },
    "ca76b5f1-1c2b-4a08-a847-a835b7fedfd2": {
     "id": "ca76b5f1-1c2b-4a08-a847-a835b7fedfd2",
     "prev": "0bb395ce-b083-4d94-b8ac-fb5230ade6b3",
     "regions": {
      "dccbf97f-89be-4028-ba02-ed9bef9a57bf": {
       "attrs": {
        "height": 0.8,
        "width": 0.8,
        "x": 0.1,
        "y": 0.1
       },
       "content": {
        "cell": "0cdab4b1-d9ab-49a2-abeb-d2f711fb7d12",
        "part": "whole"
       },
       "id": "dccbf97f-89be-4028-ba02-ed9bef9a57bf"
      }
     }
    },
    "d938b8b2-ecd0-44c3-b23c-02d4bc2b28bc": {
     "id": "d938b8b2-ecd0-44c3-b23c-02d4bc2b28bc",
     "prev": "e6877aae-0e8f-4160-8128-248eddc1447a",
     "regions": {
      "c80929a8-4b0f-4599-af8f-b761848f7396": {
       "attrs": {
        "height": 0.8,
        "width": 0.8,
        "x": 0.1,
        "y": 0.1
       },
       "content": {
        "cell": "6379f115-3542-40c0-b02a-bb85ae4d7917",
        "part": "whole"
       },
       "id": "c80929a8-4b0f-4599-af8f-b761848f7396"
      }
     }
    },
    "e2f204ec-c7fe-4792-8edf-dc8e329c66ed": {
     "id": "e2f204ec-c7fe-4792-8edf-dc8e329c66ed",
     "prev": "3ee5a029-7e9c-421a-9bcf-47df64d3ccf0",
     "regions": {
      "687c8e72-fb20-41d7-b143-ab92b0d85857": {
       "attrs": {
        "height": 0.8,
        "width": 0.8,
        "x": 0.1,
        "y": 0.1
       },
       "content": {
        "cell": "4b111cca-a3d7-48b3-a992-f3a8b2c01cad",
        "part": "whole"
       },
       "id": "687c8e72-fb20-41d7-b143-ab92b0d85857"
      }
     }
    },
    "e340e789-729d-4007-8459-fe4fffcbbb84": {
     "id": "e340e789-729d-4007-8459-fe4fffcbbb84",
     "prev": "1f3dc878-8666-4860-909e-6d4f8b9dc83a",
     "regions": {
      "d67a1dc7-ea6e-4f0f-8240-9061b856cbec": {
       "attrs": {
        "height": 0.8,
        "width": 0.8,
        "x": 0.1,
        "y": 0.1
       },
       "content": {
        "cell": "80da7534-dbca-4c09-9865-a712dcb08475",
        "part": "whole"
       },
       "id": "d67a1dc7-ea6e-4f0f-8240-9061b856cbec"
      }
     }
    },
    "e6877aae-0e8f-4160-8128-248eddc1447a": {
     "id": "e6877aae-0e8f-4160-8128-248eddc1447a",
     "prev": "991c5b6d-9a93-4882-bc60-34cc2128b717",
     "regions": {
      "ba688b67-a9f4-4c3b-a39d-dc2598f65580": {
       "attrs": {
        "height": 0.8,
        "width": 0.8,
        "x": 0.1,
        "y": 0.1
       },
       "content": {
        "cell": "e10b5911-8e82-4644-87ff-d2d7ae67ca53",
        "part": "whole"
       },
       "id": "ba688b67-a9f4-4c3b-a39d-dc2598f65580"
      }
     }
    },
    "e97f5b57-b275-4824-91bb-8e28600aaa96": {
     "id": "e97f5b57-b275-4824-91bb-8e28600aaa96",
     "prev": "8c7c1d7c-0451-4e5b-ba4e-e4fa7ded8821",
     "regions": {
      "20d7b0f5-678a-45f1-818c-bf9547aef739": {
       "attrs": {
        "height": 0.8,
        "width": 0.8,
        "x": 0.1,
        "y": 0.1
       },
       "content": {
        "cell": "29905d5e-7390-44f1-bc69-4b5b9719fa59",
        "part": "whole"
       },
       "id": "20d7b0f5-678a-45f1-818c-bf9547aef739"
      }
     }
    },
    "f08a7c59-fb8c-408e-8e48-0a4a89171a45": {
     "id": "f08a7c59-fb8c-408e-8e48-0a4a89171a45",
     "prev": "e2f204ec-c7fe-4792-8edf-dc8e329c66ed",
     "regions": {
      "dd83d0a2-a58d-4a6c-9803-76450413acc7": {
       "attrs": {
        "height": 0.8,
        "width": 0.8,
        "x": 0.1,
        "y": 0.1
       },
       "content": {
        "cell": "65b32699-32b8-4f6e-bb3c-046bea369b25",
        "part": "whole"
       },
       "id": "dd83d0a2-a58d-4a6c-9803-76450413acc7"
      }
     }
    },
    "f686993f-4752-4454-8f51-ffe4190a14b2": {
     "id": "f686993f-4752-4454-8f51-ffe4190a14b2",
     "prev": "1c8838b8-7dda-4fb3-b1c4-c78278b3e10b",
     "regions": {
      "09c1f4d8-62c3-420d-a752-9d7ab8fea95c": {
       "attrs": {
        "height": 0.8,
        "width": 0.8,
        "x": 0.1,
        "y": 0.1
       },
       "content": {
        "cell": "86a255fa-60f2-4f2c-989e-6a647fa8cbe5",
        "part": "whole"
       },
       "id": "09c1f4d8-62c3-420d-a752-9d7ab8fea95c"
      }
     }
    },
    "f6bedabe-af6d-4c8e-b671-930d80588713": {
     "id": "f6bedabe-af6d-4c8e-b671-930d80588713",
     "prev": "a87158d1-6891-489e-b6e3-f7376e249128",
     "regions": {
      "3534fada-2209-4d5c-8b6a-17054daef896": {
       "attrs": {
        "height": 0.8,
        "width": 0.8,
        "x": 0.1,
        "y": 0.1
       },
       "content": {
        "cell": "ec92a926-961d-41b1-9765-8e2dcb5fb56a",
        "part": "whole"
       },
       "id": "3534fada-2209-4d5c-8b6a-17054daef896"
      }
     }
    },
    "f7b9a871-d40b-4d40-84e6-b120c39d293f": {
     "id": "f7b9a871-d40b-4d40-84e6-b120c39d293f",
     "prev": "0d849446-1882-4bf8-995b-c363555adbbe",
     "regions": {
      "8ef7e700-e813-4ec3-85fa-e962b2c6e26c": {
       "attrs": {
        "height": 0.8,
        "width": 0.8,
        "x": 0.1,
        "y": 0.1
       },
       "content": {
        "cell": "17d4f9d1-f4ae-44d0-946f-f109210a2dcf",
        "part": "whole"
       },
       "id": "8ef7e700-e813-4ec3-85fa-e962b2c6e26c"
      }
     }
    },
    "fa58ee9e-6eda-4354-9531-e94a8726757d": {
     "id": "fa58ee9e-6eda-4354-9531-e94a8726757d",
     "prev": "0d5ecdc4-d22d-4470-8195-18239b78ce59",
     "regions": {
      "3bfbe2f0-4f67-423b-b8b1-49cfb9363e71": {
       "attrs": {
        "height": 0.8,
        "width": 0.8,
        "x": 0.1,
        "y": 0.1
       },
       "content": {
        "cell": "7d8017c4-6a6e-4218-bf52-025c758e5332",
        "part": "whole"
       },
       "id": "3bfbe2f0-4f67-423b-b8b1-49cfb9363e71"
      }
     }
    }
   },
   "themes": {}
  }
 },
 "nbformat": 4,
 "nbformat_minor": 2
}
